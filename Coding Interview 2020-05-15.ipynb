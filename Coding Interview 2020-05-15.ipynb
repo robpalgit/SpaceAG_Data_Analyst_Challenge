{
 "cells": [
  {
   "cell_type": "markdown",
   "metadata": {},
   "source": [
    "## 1) Soy palindromo"
   ]
  },
  {
   "cell_type": "markdown",
   "metadata": {},
   "source": [
    "Escribir una función que recibe un string y evalúa si este se lee igual al derecho que al revez. Esta propiedad significa que ese texto es un palíndromo. Esto no toma en cuenta capitalización ni espacios vacíos.\n",
    "\n",
    "Ejemplo: \n",
    "* Si el input es “Abba” debe retornar true.\n",
    "* Si el input es “sator arepo tenet opera rotas\" debe retornar true.\n",
    "* Si el input es “Gilberto” debe retornar false\n",
    "\n",
    "**Respuesta:**"
   ]
  },
  {
   "cell_type": "code",
   "execution_count": 1,
   "metadata": {},
   "outputs": [],
   "source": [
    "def soy_palindromo(palabra):\n",
    "    palabra = palabra.lower()\n",
    "    palabra.replace(' ', '')\n",
    "    return palabra==palabra[::-1]"
   ]
  },
  {
   "cell_type": "code",
   "execution_count": 2,
   "metadata": {},
   "outputs": [
    {
     "data": {
      "text/plain": [
       "True"
      ]
     },
     "execution_count": 2,
     "metadata": {},
     "output_type": "execute_result"
    }
   ],
   "source": [
    "soy_palindromo('Abba')"
   ]
  },
  {
   "cell_type": "code",
   "execution_count": 3,
   "metadata": {},
   "outputs": [
    {
     "data": {
      "text/plain": [
       "True"
      ]
     },
     "execution_count": 3,
     "metadata": {},
     "output_type": "execute_result"
    }
   ],
   "source": [
    "soy_palindromo('sator arepo tenet opera rotas')"
   ]
  },
  {
   "cell_type": "code",
   "execution_count": 4,
   "metadata": {},
   "outputs": [
    {
     "data": {
      "text/plain": [
       "False"
      ]
     },
     "execution_count": 4,
     "metadata": {},
     "output_type": "execute_result"
    }
   ],
   "source": [
    "soy_palindromo('Gilberto')"
   ]
  },
  {
   "cell_type": "markdown",
   "metadata": {},
   "source": [
    "## 2) Ya he visto esa letra"
   ]
  },
  {
   "cell_type": "markdown",
   "metadata": {},
   "source": [
    "Escribir una función que recibe un string y retorna el primer carácter en repetirse. Si no se repite ningún carácter retorna null. \n",
    "\n",
    "Ejemplo:\n",
    "* Si el input es ‘Abnsba’ debe retornar ‘b’.\n",
    "* Si el input es ‘Gilberto’ debe retornar null.\n"
   ]
  },
  {
   "cell_type": "code",
   "execution_count": 5,
   "metadata": {},
   "outputs": [],
   "source": [
    "def ya_he_visto_esa_letra(palabra):\n",
    "    palabra = palabra.lower()\n",
    "    dict_conteo = {}\n",
    "    for i in palabra:\n",
    "        if i in dict_conteo:\n",
    "            print(i)\n",
    "            break\n",
    "        else:\n",
    "            dict_conteo[i] = 1"
   ]
  },
  {
   "cell_type": "code",
   "execution_count": 6,
   "metadata": {},
   "outputs": [
    {
     "name": "stdout",
     "output_type": "stream",
     "text": [
      "b\n"
     ]
    }
   ],
   "source": [
    "ya_he_visto_esa_letra('Abnsba')"
   ]
  },
  {
   "cell_type": "code",
   "execution_count": 7,
   "metadata": {},
   "outputs": [],
   "source": [
    "ya_he_visto_esa_letra('Gilberto')"
   ]
  },
  {
   "cell_type": "code",
   "execution_count": 8,
   "metadata": {},
   "outputs": [
    {
     "data": {
      "text/plain": [
       "NoneType"
      ]
     },
     "execution_count": 8,
     "metadata": {},
     "output_type": "execute_result"
    }
   ],
   "source": [
    "type(ya_he_visto_esa_letra('Gilberto'))"
   ]
  },
  {
   "cell_type": "markdown",
   "metadata": {},
   "source": [
    "## 3) Cuantas islas hay en el océano?"
   ]
  },
  {
   "cell_type": "markdown",
   "metadata": {},
   "source": [
    "Escribir una función que recibe una matriz 2D que contiene sólo ceros o unos. Los ceros representan el mar y los unos, tierra. Esta función retorna la cantidad de islas que hay. Una isla es un conjunto de unos (uno o más) que están juntos."
   ]
  },
  {
   "cell_type": "code",
   "execution_count": 9,
   "metadata": {},
   "outputs": [
    {
     "data": {
      "text/plain": [
       "array([[1, 0, 1, 0],\n",
       "       [0, 1, 1, 0],\n",
       "       [0, 1, 0, 0],\n",
       "       [1, 0, 0, 1]])"
      ]
     },
     "execution_count": 9,
     "metadata": {},
     "output_type": "execute_result"
    }
   ],
   "source": [
    "import numpy as np\n",
    "\n",
    "matriz_2d = np.array([1,0,1,0,0,1,1,0,0,1,0,0,1,0,0,1]).reshape(4,4)\n",
    "matriz_2d"
   ]
  },
  {
   "cell_type": "code",
   "execution_count": 10,
   "metadata": {},
   "outputs": [],
   "source": [
    "def contador_islas(matriz):\n",
    "    conteo = 0\n",
    "    dim_x = matriz.shape[0]\n",
    "    dim_y = matriz.shape[1]\n",
    "    \n",
    "    def detector(x, y):\n",
    "        if 0 <= x < dim_x and 0 <= y < dim_y and matriz[x][y]==1:\n",
    "            matriz[x][y] = 0\n",
    "            detector(x, y+1)\n",
    "            detector(x-1, y+1)\n",
    "            detector(x-1, y)\n",
    "            detector(x-1, y-1)\n",
    "            detector(x, y-1)\n",
    "            detector(x+1, y-1)\n",
    "            detector(x+1, y)\n",
    "            detector(x+1, y+1)\n",
    "        \n",
    "    for i in range(dim_x):\n",
    "        for j in range(dim_y):\n",
    "            if matriz[i][j]==1:\n",
    "                conteo += 1\n",
    "                detector(i, j)\n",
    "        \n",
    "    return conteo"
   ]
  },
  {
   "cell_type": "code",
   "execution_count": 11,
   "metadata": {},
   "outputs": [
    {
     "data": {
      "text/plain": [
       "2"
      ]
     },
     "execution_count": 11,
     "metadata": {},
     "output_type": "execute_result"
    }
   ],
   "source": [
    "contador_islas(matriz_2d)"
   ]
  },
  {
   "cell_type": "code",
   "execution_count": null,
   "metadata": {},
   "outputs": [],
   "source": []
  }
 ],
 "metadata": {
  "kernelspec": {
   "display_name": "Python 3",
   "language": "python",
   "name": "python3"
  },
  "language_info": {
   "codemirror_mode": {
    "name": "ipython",
    "version": 3
   },
   "file_extension": ".py",
   "mimetype": "text/x-python",
   "name": "python",
   "nbconvert_exporter": "python",
   "pygments_lexer": "ipython3",
   "version": "3.7.3"
  }
 },
 "nbformat": 4,
 "nbformat_minor": 4
}
